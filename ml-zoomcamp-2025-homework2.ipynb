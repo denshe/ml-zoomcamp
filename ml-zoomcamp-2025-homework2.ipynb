{
 "cells": [
  {
   "cell_type": "code",
   "execution_count": 18,
   "id": "4df44bae-ac4d-4a9e-9789-615e3abd1080",
   "metadata": {},
   "outputs": [],
   "source": [
    "import pandas as pd\n",
    "import numpy as np"
   ]
  },
  {
   "cell_type": "code",
   "execution_count": 2,
   "id": "59e6344e-5533-440a-9ec8-6f8812ddd0d3",
   "metadata": {},
   "outputs": [
    {
     "name": "stdout",
     "output_type": "stream",
     "text": [
      "--2025-10-07 19:11:06--  https://raw.githubusercontent.com/alexeygrigorev/datasets/master/car_fuel_efficiency.csv\n",
      "Resolving raw.githubusercontent.com (raw.githubusercontent.com)... 185.199.111.133, 185.199.108.133, 185.199.109.133, ...\n",
      "Connecting to raw.githubusercontent.com (raw.githubusercontent.com)|185.199.111.133|:443... connected.\n",
      "HTTP request sent, awaiting response... 200 OK\n",
      "Length: 874188 (854K) [text/plain]\n",
      "Saving to: ‘car_fuel_efficiency.csv’\n",
      "\n",
      "car_fuel_efficiency 100%[===================>] 853.70K  --.-KB/s    in 0.008s  \n",
      "\n",
      "2025-10-07 19:11:06 (99.9 MB/s) - ‘car_fuel_efficiency.csv’ saved [874188/874188]\n",
      "\n"
     ]
    }
   ],
   "source": [
    "!wget https://raw.githubusercontent.com/alexeygrigorev/datasets/master/car_fuel_efficiency.csv"
   ]
  },
  {
   "cell_type": "markdown",
   "id": "122db2c1-74f7-4425-add3-7002cee58f05",
   "metadata": {},
   "source": [
    "### Load and leave necessary columns"
   ]
  },
  {
   "cell_type": "code",
   "execution_count": 6,
   "id": "440f2278-251f-4f23-bf37-675d2595fe2f",
   "metadata": {},
   "outputs": [],
   "source": [
    "df = pd.read_csv('car_fuel_efficiency.csv')[['engine_displacement', 'horsepower', 'vehicle_weight', 'model_year', 'fuel_efficiency_mpg']]"
   ]
  },
  {
   "cell_type": "code",
   "execution_count": 15,
   "id": "bfae08a0-f63e-4b7b-aa2b-e728134d10ef",
   "metadata": {},
   "outputs": [
    {
     "data": {
      "text/html": [
       "<div>\n",
       "<style scoped>\n",
       "    .dataframe tbody tr th:only-of-type {\n",
       "        vertical-align: middle;\n",
       "    }\n",
       "\n",
       "    .dataframe tbody tr th {\n",
       "        vertical-align: top;\n",
       "    }\n",
       "\n",
       "    .dataframe thead th {\n",
       "        text-align: right;\n",
       "    }\n",
       "</style>\n",
       "<table border=\"1\" class=\"dataframe\">\n",
       "  <thead>\n",
       "    <tr style=\"text-align: right;\">\n",
       "      <th></th>\n",
       "      <th>0</th>\n",
       "      <th>1</th>\n",
       "      <th>2</th>\n",
       "      <th>3</th>\n",
       "      <th>4</th>\n",
       "      <th>5</th>\n",
       "      <th>6</th>\n",
       "      <th>7</th>\n",
       "      <th>8</th>\n",
       "      <th>9</th>\n",
       "      <th>...</th>\n",
       "      <th>9694</th>\n",
       "      <th>9695</th>\n",
       "      <th>9696</th>\n",
       "      <th>9697</th>\n",
       "      <th>9698</th>\n",
       "      <th>9699</th>\n",
       "      <th>9700</th>\n",
       "      <th>9701</th>\n",
       "      <th>9702</th>\n",
       "      <th>9703</th>\n",
       "    </tr>\n",
       "  </thead>\n",
       "  <tbody>\n",
       "    <tr>\n",
       "      <th>engine_displacement</th>\n",
       "      <td>170.000000</td>\n",
       "      <td>130.000000</td>\n",
       "      <td>170.000000</td>\n",
       "      <td>220.000000</td>\n",
       "      <td>210.000000</td>\n",
       "      <td>190.000000</td>\n",
       "      <td>240.000000</td>\n",
       "      <td>150.000000</td>\n",
       "      <td>250.000000</td>\n",
       "      <td>150.000000</td>\n",
       "      <td>...</td>\n",
       "      <td>220.000000</td>\n",
       "      <td>280.000000</td>\n",
       "      <td>190.000000</td>\n",
       "      <td>220.000000</td>\n",
       "      <td>180.000000</td>\n",
       "      <td>140.000000</td>\n",
       "      <td>180.000000</td>\n",
       "      <td>220.000000</td>\n",
       "      <td>230.000000</td>\n",
       "      <td>270.000000</td>\n",
       "    </tr>\n",
       "    <tr>\n",
       "      <th>horsepower</th>\n",
       "      <td>159.000000</td>\n",
       "      <td>97.000000</td>\n",
       "      <td>78.000000</td>\n",
       "      <td>NaN</td>\n",
       "      <td>140.000000</td>\n",
       "      <td>NaN</td>\n",
       "      <td>127.000000</td>\n",
       "      <td>239.000000</td>\n",
       "      <td>174.000000</td>\n",
       "      <td>123.000000</td>\n",
       "      <td>...</td>\n",
       "      <td>176.000000</td>\n",
       "      <td>154.000000</td>\n",
       "      <td>69.000000</td>\n",
       "      <td>110.000000</td>\n",
       "      <td>131.000000</td>\n",
       "      <td>164.000000</td>\n",
       "      <td>154.000000</td>\n",
       "      <td>138.000000</td>\n",
       "      <td>177.000000</td>\n",
       "      <td>140.000000</td>\n",
       "    </tr>\n",
       "    <tr>\n",
       "      <th>vehicle_weight</th>\n",
       "      <td>3413.433759</td>\n",
       "      <td>3149.664934</td>\n",
       "      <td>3079.038997</td>\n",
       "      <td>2542.392402</td>\n",
       "      <td>3460.870990</td>\n",
       "      <td>2484.883986</td>\n",
       "      <td>3006.542287</td>\n",
       "      <td>3638.657780</td>\n",
       "      <td>2714.219310</td>\n",
       "      <td>3509.036569</td>\n",
       "      <td>...</td>\n",
       "      <td>2837.652898</td>\n",
       "      <td>3797.309878</td>\n",
       "      <td>3133.329210</td>\n",
       "      <td>2532.987630</td>\n",
       "      <td>3107.427820</td>\n",
       "      <td>2981.107371</td>\n",
       "      <td>2439.525729</td>\n",
       "      <td>2583.471318</td>\n",
       "      <td>2905.527390</td>\n",
       "      <td>2908.043477</td>\n",
       "    </tr>\n",
       "    <tr>\n",
       "      <th>model_year</th>\n",
       "      <td>2003.000000</td>\n",
       "      <td>2007.000000</td>\n",
       "      <td>2018.000000</td>\n",
       "      <td>2009.000000</td>\n",
       "      <td>2009.000000</td>\n",
       "      <td>2008.000000</td>\n",
       "      <td>2012.000000</td>\n",
       "      <td>2020.000000</td>\n",
       "      <td>2016.000000</td>\n",
       "      <td>2005.000000</td>\n",
       "      <td>...</td>\n",
       "      <td>2013.000000</td>\n",
       "      <td>2013.000000</td>\n",
       "      <td>2008.000000</td>\n",
       "      <td>2004.000000</td>\n",
       "      <td>2005.000000</td>\n",
       "      <td>2013.000000</td>\n",
       "      <td>2004.000000</td>\n",
       "      <td>2008.000000</td>\n",
       "      <td>2011.000000</td>\n",
       "      <td>2005.000000</td>\n",
       "    </tr>\n",
       "    <tr>\n",
       "      <th>fuel_efficiency_mpg</th>\n",
       "      <td>13.231729</td>\n",
       "      <td>13.688217</td>\n",
       "      <td>14.246341</td>\n",
       "      <td>16.912736</td>\n",
       "      <td>12.488369</td>\n",
       "      <td>17.271818</td>\n",
       "      <td>13.210412</td>\n",
       "      <td>12.848884</td>\n",
       "      <td>16.823554</td>\n",
       "      <td>12.298355</td>\n",
       "      <td>...</td>\n",
       "      <td>16.233553</td>\n",
       "      <td>10.542970</td>\n",
       "      <td>13.418128</td>\n",
       "      <td>17.305653</td>\n",
       "      <td>13.933716</td>\n",
       "      <td>15.101802</td>\n",
       "      <td>17.962326</td>\n",
       "      <td>17.186587</td>\n",
       "      <td>15.331551</td>\n",
       "      <td>14.884467</td>\n",
       "    </tr>\n",
       "  </tbody>\n",
       "</table>\n",
       "<p>5 rows × 9704 columns</p>\n",
       "</div>"
      ],
      "text/plain": [
       "                            0            1            2            3     \\\n",
       "engine_displacement   170.000000   130.000000   170.000000   220.000000   \n",
       "horsepower            159.000000    97.000000    78.000000          NaN   \n",
       "vehicle_weight       3413.433759  3149.664934  3079.038997  2542.392402   \n",
       "model_year           2003.000000  2007.000000  2018.000000  2009.000000   \n",
       "fuel_efficiency_mpg    13.231729    13.688217    14.246341    16.912736   \n",
       "\n",
       "                            4            5            6            7     \\\n",
       "engine_displacement   210.000000   190.000000   240.000000   150.000000   \n",
       "horsepower            140.000000          NaN   127.000000   239.000000   \n",
       "vehicle_weight       3460.870990  2484.883986  3006.542287  3638.657780   \n",
       "model_year           2009.000000  2008.000000  2012.000000  2020.000000   \n",
       "fuel_efficiency_mpg    12.488369    17.271818    13.210412    12.848884   \n",
       "\n",
       "                            8            9     ...         9694         9695  \\\n",
       "engine_displacement   250.000000   150.000000  ...   220.000000   280.000000   \n",
       "horsepower            174.000000   123.000000  ...   176.000000   154.000000   \n",
       "vehicle_weight       2714.219310  3509.036569  ...  2837.652898  3797.309878   \n",
       "model_year           2016.000000  2005.000000  ...  2013.000000  2013.000000   \n",
       "fuel_efficiency_mpg    16.823554    12.298355  ...    16.233553    10.542970   \n",
       "\n",
       "                            9696         9697         9698         9699  \\\n",
       "engine_displacement   190.000000   220.000000   180.000000   140.000000   \n",
       "horsepower             69.000000   110.000000   131.000000   164.000000   \n",
       "vehicle_weight       3133.329210  2532.987630  3107.427820  2981.107371   \n",
       "model_year           2008.000000  2004.000000  2005.000000  2013.000000   \n",
       "fuel_efficiency_mpg    13.418128    17.305653    13.933716    15.101802   \n",
       "\n",
       "                            9700         9701         9702         9703  \n",
       "engine_displacement   180.000000   220.000000   230.000000   270.000000  \n",
       "horsepower            154.000000   138.000000   177.000000   140.000000  \n",
       "vehicle_weight       2439.525729  2583.471318  2905.527390  2908.043477  \n",
       "model_year           2004.000000  2008.000000  2011.000000  2005.000000  \n",
       "fuel_efficiency_mpg    17.962326    17.186587    15.331551    14.884467  \n",
       "\n",
       "[5 rows x 9704 columns]"
      ]
     },
     "execution_count": 15,
     "metadata": {},
     "output_type": "execute_result"
    }
   ],
   "source": [
    "df.T"
   ]
  },
  {
   "cell_type": "code",
   "execution_count": 8,
   "id": "50e06056-5a3e-4e71-9fa6-1d80eaf60585",
   "metadata": {},
   "outputs": [],
   "source": [
    "import matplotlib.pyplot as plt\n",
    "import seaborn as sns\n",
    "\n",
    "%matplotlib inline"
   ]
  },
  {
   "cell_type": "code",
   "execution_count": 9,
   "id": "5b6c8c9c-3ea6-4bda-84a2-86837b9c743f",
   "metadata": {},
   "outputs": [
    {
     "data": {
      "text/plain": [
       "<Axes: xlabel='fuel_efficiency_mpg', ylabel='Count'>"
      ]
     },
     "execution_count": 9,
     "metadata": {},
     "output_type": "execute_result"
    },
    {
     "data": {
      "image/png": "[encoded data removed]",
      "text/plain": [
       "<Figure size 640x480 with 1 Axes>"
      ]
     },
     "metadata": {},
     "output_type": "display_data"
    }
   ],
   "source": [
    "sns.histplot(df.fuel_efficiency_mpg, bins=50)"
   ]
  },
  {
   "cell_type": "code",
   "execution_count": 10,
   "id": "a2ca7599-89ae-41be-9c0f-f233644b9756",
   "metadata": {},
   "outputs": [
    {
     "data": {
      "text/plain": [
       "engine_displacement      0\n",
       "horsepower             708\n",
       "vehicle_weight           0\n",
       "model_year               0\n",
       "fuel_efficiency_mpg      0\n",
       "dtype: int64"
      ]
     },
     "execution_count": 10,
     "metadata": {},
     "output_type": "execute_result"
    }
   ],
   "source": [
    "df.isnull().sum()"
   ]
  },
  {
   "cell_type": "code",
   "execution_count": 11,
   "id": "63129020-d95f-4c6a-90d3-2537a7cc62aa",
   "metadata": {},
   "outputs": [
    {
     "data": {
      "text/plain": [
       "np.float64(149.0)"
      ]
     },
     "execution_count": 11,
     "metadata": {},
     "output_type": "execute_result"
    }
   ],
   "source": [
    "df.horsepower.median()"
   ]
  },
  {
   "cell_type": "code",
   "execution_count": 12,
   "id": "cabbd139-982d-4d66-a27b-3daafff21ab4",
   "metadata": {},
   "outputs": [],
   "source": [
    "n = len(df)\n",
    "\n",
    "n_val = int(n * 0.2)\n",
    "n_test = int(n * 0.2)\n",
    "n_train = n - n_val - n_test"
   ]
  },
  {
   "cell_type": "markdown",
   "id": "31cb5623-e4cc-4618-93c6-8d9af67face4",
   "metadata": {},
   "source": [
    "### Shuffle and split data into train, validation, test datasets"
   ]
  },
  {
   "cell_type": "code",
   "execution_count": 49,
   "id": "729b1cc8-ac7f-4dac-abf1-4364aa87d47a",
   "metadata": {},
   "outputs": [],
   "source": [
    "idx = np.arange(n)\n",
    "np.random.seed(42)\n",
    "np.random.shuffle(idx)\n",
    "df_train = df.iloc[idx[:n_train]]\n",
    "df_val = df.iloc[idx[n_train:n_train+n_val]]\n",
    "df_test = df.iloc[idx[n_train+n_val:]]\n",
    "df_train = df_train.reset_index(drop=True)\n",
    "df_val = df_val.reset_index(drop=True)\n",
    "df_test = df_test.reset_index(drop=True)\n",
    "\n",
    "y_train = df_train.fuel_efficiency_mpg.values\n",
    "y_val = df_val.fuel_efficiency_mpg.values\n",
    "y_test = df_test.fuel_efficiency_mpg.values\n",
    "\n",
    "#y_train = np.log1p(df_train.fuel_efficiency_mpg.values)\n",
    "#y_val = np.log1p(df_val.fuel_efficiency_mpg.values)\n",
    "#y_test = np.log1p(df_test.fuel_efficiency_mpg.values)\n",
    "\n",
    "del df_train['fuel_efficiency_mpg']\n",
    "del df_val['fuel_efficiency_mpg']\n",
    "del df_test['fuel_efficiency_mpg']"
   ]
  },
  {
   "cell_type": "code",
   "execution_count": 50,
   "id": "0dfbdff2-abab-40ad-95e6-ee592455d8df",
   "metadata": {},
   "outputs": [
    {
     "data": {
      "text/plain": [
       "(5824, 1940, 1940)"
      ]
     },
     "execution_count": 50,
     "metadata": {},
     "output_type": "execute_result"
    }
   ],
   "source": [
    "len(df_train), len(df_val), len(df_test)"
   ]
  },
  {
   "cell_type": "code",
   "execution_count": 51,
   "id": "5e44d93c-29bc-4c3b-b82d-8185f08dd882",
   "metadata": {},
   "outputs": [
    {
     "data": {
      "text/plain": [
       "5824"
      ]
     },
     "execution_count": 51,
     "metadata": {},
     "output_type": "execute_result"
    }
   ],
   "source": [
    "len(y_train)"
   ]
  },
  {
   "cell_type": "code",
   "execution_count": 52,
   "id": "0161324b-319c-4224-b433-3d87c1c9a32a",
   "metadata": {},
   "outputs": [],
   "source": [
    "mean_horsepower = df_train.horsepower.mean()"
   ]
  },
  {
   "cell_type": "code",
   "execution_count": 53,
   "id": "9c64ac63-2caa-430d-9e81-64d3019fac2d",
   "metadata": {},
   "outputs": [],
   "source": [
    "def train_linear_regression(X, y):\n",
    "    ones = np.ones(X.shape[0])\n",
    "    X = np.column_stack([ones, X])\n",
    "\n",
    "    XTX = X.T.dot(X)\n",
    "    XTX_inv = np.linalg.inv(XTX)\n",
    "    w_full = XTX_inv.dot(X.T).dot(y)\n",
    "    \n",
    "    return w_full[0], w_full[1:]\n",
    "\n",
    "def rmse(y, y_pred):\n",
    "    se = (y - y_pred) ** 2\n",
    "    mse = se.mean()\n",
    "    return np.sqrt(mse)"
   ]
  },
  {
   "cell_type": "code",
   "execution_count": 54,
   "id": "e31cac1a-c939-44d0-8d15-b7d3168d1aed",
   "metadata": {},
   "outputs": [],
   "source": [
    "def prepare_X(df, miss_value=0):\n",
    "    df = df.copy()\n",
    "    df_num = df.fillna(miss_value)\n",
    "    X = df_num.values\n",
    "    return X"
   ]
  },
  {
   "cell_type": "code",
   "execution_count": 66,
   "id": "cc6e05f0-9147-4b7a-a852-02207c2071ec",
   "metadata": {},
   "outputs": [
    {
     "data": {
      "text/plain": [
       "np.float64(0.52)"
      ]
     },
     "execution_count": 66,
     "metadata": {},
     "output_type": "execute_result"
    }
   ],
   "source": [
    "X_train = prepare_X(df_train)\n",
    "w0, w = train_linear_regression(X_train, y_train)\n",
    "\n",
    "X_val = prepare_X(df_val)\n",
    "y_pred = w0 + X_val.dot(w)\n",
    "round(rmse(y_val, y_pred),2)"
   ]
  },
  {
   "cell_type": "code",
   "execution_count": 67,
   "id": "81657ef5-ce4c-4dac-9ab2-aafcd74100d3",
   "metadata": {},
   "outputs": [
    {
     "data": {
      "text/plain": [
       "np.float64(0.5)"
      ]
     },
     "execution_count": 67,
     "metadata": {},
     "output_type": "execute_result"
    }
   ],
   "source": [
    "X_train = prepare_X(df_train)\n",
    "w0, w = train_linear_regression(X_train, y_train)\n",
    "\n",
    "X_val = prepare_X(df_val, miss_value=mean_horsepower)\n",
    "y_pred = w0 + X_val.dot(w)\n",
    "round(rmse(y_val, y_pred),2)"
   ]
  },
  {
   "cell_type": "markdown",
   "id": "c9310d07-da26-4e8e-b128-25bb3cf9b161",
   "metadata": {},
   "source": [
    "### Regularized linear regression"
   ]
  },
  {
   "cell_type": "code",
   "execution_count": 59,
   "id": "935e49ba-445a-4233-ad7c-386b1325143b",
   "metadata": {},
   "outputs": [],
   "source": [
    "def train_linear_regression_reg(X, y, r=0):\n",
    "    ones = np.ones(X.shape[0])\n",
    "    X = np.column_stack([ones, X])\n",
    "\n",
    "    XTX = X.T.dot(X)\n",
    "    XTX = XTX + r * np.eye(XTX.shape[0])\n",
    "\n",
    "    XTX_inv = np.linalg.inv(XTX)\n",
    "    w_full = XTX_inv.dot(X.T).dot(y)\n",
    "    \n",
    "    return w_full[0], w_full[1:]"
   ]
  },
  {
   "cell_type": "code",
   "execution_count": 64,
   "id": "b5cef0d9-3c00-4dbe-8730-f786d74e0166",
   "metadata": {},
   "outputs": [
    {
     "name": "stdout",
     "output_type": "stream",
     "text": [
      "0 28.827365475106156 0.52\n",
      "0.01 24.92683842008767 0.52\n",
      "0.1 11.239661084961272 0.52\n",
      "1 1.7315979411936366 0.52\n",
      "5 0.3638075020692219 0.52\n",
      "10 0.18306246622306527 0.52\n",
      "100 0.018418017306977234 0.52\n"
     ]
    }
   ],
   "source": [
    "for r in [0, 0.01, 0.1, 1, 5, 10, 100]:\n",
    "    X_train = prepare_X(df_train)\n",
    "    w0, w = train_linear_regression_reg(X_train, y_train, r=r)\n",
    "\n",
    "    X_val = prepare_X(df_val)\n",
    "    y_pred = w0 + X_val.dot(w)\n",
    "    score = rmse(y_val, y_pred)\n",
    "    \n",
    "    print(r, w0, round(score,2))"
   ]
  },
  {
   "cell_type": "markdown",
   "id": "14ab009e-3bf1-456b-954e-ca36d4d3f21b",
   "metadata": {},
   "source": [
    "### Different seed values"
   ]
  },
  {
   "cell_type": "code",
   "execution_count": 73,
   "id": "15fd7581-f73b-4979-9562-eb34d575566e",
   "metadata": {},
   "outputs": [],
   "source": [
    "idx = np.arange(n)\n",
    "scores = []\n",
    "\n",
    "for s in [0, 1, 2, 3, 4, 5, 6, 7, 8, 9]:\n",
    "    np.random.seed(s)\n",
    "    np.random.shuffle(idx)\n",
    "    df_train = df.iloc[idx[:n_train]]\n",
    "    df_val = df.iloc[idx[n_train:n_train+n_val]]\n",
    "    df_test = df.iloc[idx[n_train+n_val:]]\n",
    "    df_train = df_train.reset_index(drop=True)\n",
    "    df_val = df_val.reset_index(drop=True)\n",
    "    df_test = df_test.reset_index(drop=True)\n",
    "\n",
    "    y_train = df_train.fuel_efficiency_mpg.values\n",
    "    y_val = df_val.fuel_efficiency_mpg.values\n",
    "    y_test = df_test.fuel_efficiency_mpg.values\n",
    "    del df_train['fuel_efficiency_mpg']\n",
    "    del df_val['fuel_efficiency_mpg']\n",
    "    del df_test['fuel_efficiency_mpg']\n",
    "\n",
    "    X_train = prepare_X(df_train)\n",
    "    w0, w = train_linear_regression(X_train, y_train)\n",
    "    X_val = prepare_X(df_val)\n",
    "    y_pred = w0 + X_val.dot(w)\n",
    "    #print(s)\n",
    "    scores.append(rmse(y_val, y_pred))"
   ]
  },
  {
   "cell_type": "code",
   "execution_count": 74,
   "id": "3668ef3d-7695-4dca-b4cc-37f5aeeef317",
   "metadata": {},
   "outputs": [
    {
     "data": {
      "text/plain": [
       "[np.float64(0.5206531296292951),\n",
       " np.float64(0.5228485491251414),\n",
       " np.float64(0.5168340161956984),\n",
       " np.float64(0.5256717600315021),\n",
       " np.float64(0.5213713709776588),\n",
       " np.float64(0.5251461732327269),\n",
       " np.float64(0.5255505441129995),\n",
       " np.float64(0.5068430916003163),\n",
       " np.float64(0.5200613086933334),\n",
       " np.float64(0.5140844796208722)]"
      ]
     },
     "execution_count": 74,
     "metadata": {},
     "output_type": "execute_result"
    }
   ],
   "source": [
    "scores"
   ]
  },
  {
   "cell_type": "code",
   "execution_count": 76,
   "id": "715267e3-eef0-4053-946c-8ca9bc5a6459",
   "metadata": {},
   "outputs": [
    {
     "data": {
      "text/plain": [
       "np.float64(0.005638433038914407)"
      ]
     },
     "execution_count": 76,
     "metadata": {},
     "output_type": "execute_result"
    }
   ],
   "source": [
    "np.std(scores)"
   ]
  },
  {
   "cell_type": "markdown",
   "id": "bf31c23e-bf16-4009-a1ec-d7954b7159e1",
   "metadata": {},
   "source": [
    "### Question 6"
   ]
  },
  {
   "cell_type": "code",
   "execution_count": 78,
   "id": "c25ff585-65ed-4780-ad59-1602286e1113",
   "metadata": {},
   "outputs": [
    {
     "data": {
      "text/plain": [
       "np.float64(0.516)"
      ]
     },
     "execution_count": 78,
     "metadata": {},
     "output_type": "execute_result"
    }
   ],
   "source": [
    "idx = np.arange(n)\n",
    "np.random.seed(9)\n",
    "np.random.shuffle(idx)\n",
    "df_train = df.iloc[idx[:n_train]]\n",
    "df_val = df.iloc[idx[n_train:n_train+n_val]]\n",
    "df_test = df.iloc[idx[n_train+n_val:]]\n",
    "df_train = df_train.reset_index(drop=True)\n",
    "df_val = df_val.reset_index(drop=True)\n",
    "df_test = df_test.reset_index(drop=True)\n",
    "\n",
    "y_train = df_train.fuel_efficiency_mpg.values\n",
    "y_val = df_val.fuel_efficiency_mpg.values\n",
    "y_test = df_test.fuel_efficiency_mpg.values\n",
    "del df_train['fuel_efficiency_mpg']\n",
    "del df_val['fuel_efficiency_mpg']\n",
    "del df_test['fuel_efficiency_mpg']\n",
    "\n",
    "df_full_train = pd.concat([df_train, df_val])\n",
    "df_full_train = df_full_train.reset_index(drop=True)\n",
    "X_full_train = prepare_X(df_full_train)\n",
    "\n",
    "y_full_train = np.concatenate([y_train, y_val])\n",
    "\n",
    "w0, w = train_linear_regression_reg(X_full_train, y_full_train, r=0.001)\n",
    "X_test = prepare_X(df_test)\n",
    "y_pred = w0 + X_test.dot(w)\n",
    "score = rmse(y_test, y_pred)\n",
    "round(score,3)"
   ]
  },
  {
   "cell_type": "code",
   "execution_count": null,
   "id": "8115fbcb-0515-4da6-8aa1-cac5552bf818",
   "metadata": {},
   "outputs": [],
   "source": []
  }
 ],
 "metadata": {
  "kernelspec": {
   "display_name": "Python 3 (ipykernel)",
   "language": "python",
   "name": "python3"
  },
  "language_info": {
   "codemirror_mode": {
    "name": "ipython",
    "version": 3
   },
   "file_extension": ".py",
   "mimetype": "text/x-python",
   "name": "python",
   "nbconvert_exporter": "python",
   "pygments_lexer": "ipython3",
   "version": "3.12.1"
  }
 },
 "nbformat": 4,
 "nbformat_minor": 5
}
